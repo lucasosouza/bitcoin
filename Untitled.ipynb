{
 "cells": [
  {
   "cell_type": "code",
   "execution_count": 18,
   "metadata": {
    "collapsed": true
   },
   "outputs": [],
   "source": [
    "import pandas as pd\n",
    "import numpy as np"
   ]
  },
  {
   "cell_type": "code",
   "execution_count": 19,
   "metadata": {
    "collapsed": true
   },
   "outputs": [],
   "source": [
    "from poloniex import Poloniex\n",
    "key = ''\n",
    "secret = ''\n",
    "polo = Poloniex(key, secret)"
   ]
  },
  {
   "cell_type": "code",
   "execution_count": 20,
   "metadata": {
    "collapsed": false
   },
   "outputs": [
    {
     "name": "stdout",
     "output_type": "stream",
     "text": [
      "{'id': 148, 'percentChange': '-0.02946703', 'isFrozen': '0', 'lowestAsk': '0.07021222', 'quoteVolume': '238455.53415816', 'baseVolume': '17087.15432055', 'highestBid': '0.07007248', 'last': '0.07007248', 'low24hr': '0.06840000', 'high24hr': '0.07635721'}\n"
     ]
    }
   ],
   "source": [
    "print(polo('returnTicker')['BTC_ETH'])"
   ]
  },
  {
   "cell_type": "code",
   "execution_count": 21,
   "metadata": {
    "collapsed": false
   },
   "outputs": [
    {
     "data": {
      "text/plain": [
       "['DAY',\n",
       " 'HOUR',\n",
       " 'MINUTE',\n",
       " 'MONTH',\n",
       " 'WEEK',\n",
       " 'YEAR',\n",
       " '__call__',\n",
       " '__class__',\n",
       " '__delattr__',\n",
       " '__dict__',\n",
       " '__dir__',\n",
       " '__doc__',\n",
       " '__eq__',\n",
       " '__format__',\n",
       " '__ge__',\n",
       " '__getattribute__',\n",
       " '__gt__',\n",
       " '__hash__',\n",
       " '__init__',\n",
       " '__le__',\n",
       " '__lt__',\n",
       " '__module__',\n",
       " '__ne__',\n",
       " '__new__',\n",
       " '__reduce__',\n",
       " '__reduce_ex__',\n",
       " '__repr__',\n",
       " '__setattr__',\n",
       " '__sizeof__',\n",
       " '__str__',\n",
       " '__subclasshook__',\n",
       " '__weakref__',\n",
       " '_nonce',\n",
       " 'buy',\n",
       " 'cancelLoanOffer',\n",
       " 'cancelOrder',\n",
       " 'checkCmd',\n",
       " 'closeMarginPosition',\n",
       " 'coach',\n",
       " 'createLoanOffer',\n",
       " 'generateNewAddress',\n",
       " 'getMarginPosition',\n",
       " 'handleReturned',\n",
       " 'jsonNums',\n",
       " 'key',\n",
       " 'logger',\n",
       " 'marginBuy',\n",
       " 'marginSell',\n",
       " 'marketTradeHist',\n",
       " 'moveOrder',\n",
       " 'nonce',\n",
       " 'retry',\n",
       " 'return24hVolume',\n",
       " 'returnActiveLoans',\n",
       " 'returnAvailableAccountBalances',\n",
       " 'returnBalances',\n",
       " 'returnChartData',\n",
       " 'returnCompleteBalances',\n",
       " 'returnCurrencies',\n",
       " 'returnDepositAddresses',\n",
       " 'returnDepositsWithdrawals',\n",
       " 'returnFeeInfo',\n",
       " 'returnLendingHistory',\n",
       " 'returnLoanOrders',\n",
       " 'returnMarginAccountSummary',\n",
       " 'returnOpenLoanOffers',\n",
       " 'returnOpenOrders',\n",
       " 'returnOrderBook',\n",
       " 'returnOrderTrades',\n",
       " 'returnTicker',\n",
       " 'returnTradableBalances',\n",
       " 'returnTradeHistory',\n",
       " 'secret',\n",
       " 'sell',\n",
       " 'timeout',\n",
       " 'toggleAutoRenew',\n",
       " 'transferBalance',\n",
       " 'withdraw']"
      ]
     },
     "execution_count": 21,
     "metadata": {},
     "output_type": "execute_result"
    }
   ],
   "source": [
    "dir(polo)"
   ]
  },
  {
   "cell_type": "code",
   "execution_count": 26,
   "metadata": {
    "collapsed": false
   },
   "outputs": [
    {
     "ename": "TypeError",
     "evalue": "returnOrderTrades() missing 1 required positional argument: 'orderNumber'",
     "output_type": "error",
     "traceback": [
      "\u001b[0;31m---------------------------------------------------------------------------\u001b[0m",
      "\u001b[0;31mTypeError\u001b[0m                                 Traceback (most recent call last)",
      "\u001b[0;32m<ipython-input-26-89e320fa7bcb>\u001b[0m in \u001b[0;36m<module>\u001b[0;34m()\u001b[0m\n\u001b[0;32m----> 1\u001b[0;31m \u001b[0mpolo\u001b[0m\u001b[0;34m.\u001b[0m\u001b[0mreturnOrderTrades\u001b[0m\u001b[0;34m(\u001b[0m\u001b[0;34m)\u001b[0m\u001b[0;34m\u001b[0m\u001b[0m\n\u001b[0m",
      "\u001b[0;31mTypeError\u001b[0m: returnOrderTrades() missing 1 required positional argument: 'orderNumber'"
     ]
    }
   ],
   "source": [
    "polo.returnOrderTrades()"
   ]
  },
  {
   "cell_type": "code",
   "execution_count": 13,
   "metadata": {
    "collapsed": false
   },
   "outputs": [],
   "source": [
    "import quandl"
   ]
  },
  {
   "cell_type": "code",
   "execution_count": null,
   "metadata": {
    "collapsed": true
   },
   "outputs": [],
   "source": []
  }
 ],
 "metadata": {
  "anaconda-cloud": {},
  "kernelspec": {
   "display_name": "Python [conda env:udacity]",
   "language": "python",
   "name": "conda-env-udacity-py"
  },
  "language_info": {
   "codemirror_mode": {
    "name": "ipython",
    "version": 3
   },
   "file_extension": ".py",
   "mimetype": "text/x-python",
   "name": "python",
   "nbconvert_exporter": "python",
   "pygments_lexer": "ipython3",
   "version": "3.5.2"
  }
 },
 "nbformat": 4,
 "nbformat_minor": 1
}
